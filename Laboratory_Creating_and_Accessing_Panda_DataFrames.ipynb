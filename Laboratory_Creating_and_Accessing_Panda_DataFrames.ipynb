{
  "nbformat": 4,
  "nbformat_minor": 0,
  "metadata": {
    "colab": {
      "provenance": [],
      "authorship_tag": "ABX9TyNd+w+sBLqmy04/llQQiCvi",
      "include_colab_link": true
    },
    "kernelspec": {
      "name": "python3",
      "display_name": "Python 3"
    },
    "language_info": {
      "name": "python"
    }
  },
  "cells": [
    {
      "cell_type": "markdown",
      "metadata": {
        "id": "view-in-github",
        "colab_type": "text"
      },
      "source": [
        "<a href=\"https://colab.research.google.com/github/ksndrsantos/CpE-031-VDA-CpE21s4/blob/main/Laboratory_Creating_and_Accessing_Panda_DataFrames.ipynb\" target=\"_parent\"><img src=\"https://colab.research.google.com/assets/colab-badge.svg\" alt=\"Open In Colab\"/></a>"
      ]
    },
    {
      "cell_type": "code",
      "execution_count": null,
      "metadata": {
        "colab": {
          "base_uri": "https://localhost:8080/"
        },
        "id": "5rmJmzq3WlQi",
        "outputId": "00e88a85-327f-47eb-9216-58d2011374ca"
      },
      "outputs": [
        {
          "output_type": "stream",
          "name": "stdout",
          "text": [
            "Requirement already satisfied: pandas in /usr/local/lib/python3.10/dist-packages (2.2.2)\n",
            "Requirement already satisfied: numpy>=1.22.4 in /usr/local/lib/python3.10/dist-packages (from pandas) (1.26.4)\n",
            "Requirement already satisfied: python-dateutil>=2.8.2 in /usr/local/lib/python3.10/dist-packages (from pandas) (2.8.2)\n",
            "Requirement already satisfied: pytz>=2020.1 in /usr/local/lib/python3.10/dist-packages (from pandas) (2024.2)\n",
            "Requirement already satisfied: tzdata>=2022.7 in /usr/local/lib/python3.10/dist-packages (from pandas) (2024.2)\n",
            "Requirement already satisfied: six>=1.5 in /usr/local/lib/python3.10/dist-packages (from python-dateutil>=2.8.2->pandas) (1.16.0)\n"
          ]
        }
      ],
      "source": [
        "!pip install pandas"
      ]
    },
    {
      "cell_type": "code",
      "source": [
        "from google.colab import drive\n",
        "drive.mount('/content/drive')\n",
        "import pandas as pd"
      ],
      "metadata": {
        "colab": {
          "base_uri": "https://localhost:8080/"
        },
        "id": "GtC8kmKJWpVS",
        "outputId": "b8224dc8-885b-4035-b2ab-6fcd6e0298eb"
      },
      "execution_count": null,
      "outputs": [
        {
          "output_type": "stream",
          "name": "stdout",
          "text": [
            "Drive already mounted at /content/drive; to attempt to forcibly remount, call drive.mount(\"/content/drive\", force_remount=True).\n"
          ]
        }
      ]
    },
    {
      "cell_type": "code",
      "source": [
        "path = \"/content/drive/MyDrive/Dataset/Teams-(1).csv\"\n",
        "df=pd.read_csv(path)\n",
        "df.head(5)"
      ],
      "metadata": {
        "colab": {
          "base_uri": "https://localhost:8080/",
          "height": 206
        },
        "id": "N_ngxNKCW34y",
        "outputId": "a97ed93b-6b70-472a-bdca-f19f1e1fa205"
      },
      "execution_count": 21,
      "outputs": [
        {
          "output_type": "execute_result",
          "data": {
            "text/plain": [
              "   Rank            Team  Gold  Silver  Bronze  S Tier  Earnings\n",
              "0     1       Sentinels    12       3       1       1  $561,500\n",
              "1     2           Acend     5       1       1       1  $498,859\n",
              "2     3  Gambit Esports     8       3       0       1  $495,638\n",
              "3     4     Team Liquid     4       2       2       0  $295,374\n",
              "4     5      G2 Esports     7       2       1       0  $257,925"
            ],
            "text/html": [
              "\n",
              "  <div id=\"df-43101f83-9ec4-468a-975d-7dcbb6bc87c8\" class=\"colab-df-container\">\n",
              "    <div>\n",
              "<style scoped>\n",
              "    .dataframe tbody tr th:only-of-type {\n",
              "        vertical-align: middle;\n",
              "    }\n",
              "\n",
              "    .dataframe tbody tr th {\n",
              "        vertical-align: top;\n",
              "    }\n",
              "\n",
              "    .dataframe thead th {\n",
              "        text-align: right;\n",
              "    }\n",
              "</style>\n",
              "<table border=\"1\" class=\"dataframe\">\n",
              "  <thead>\n",
              "    <tr style=\"text-align: right;\">\n",
              "      <th></th>\n",
              "      <th>Rank</th>\n",
              "      <th>Team</th>\n",
              "      <th>Gold</th>\n",
              "      <th>Silver</th>\n",
              "      <th>Bronze</th>\n",
              "      <th>S Tier</th>\n",
              "      <th>Earnings</th>\n",
              "    </tr>\n",
              "  </thead>\n",
              "  <tbody>\n",
              "    <tr>\n",
              "      <th>0</th>\n",
              "      <td>1</td>\n",
              "      <td>Sentinels</td>\n",
              "      <td>12</td>\n",
              "      <td>3</td>\n",
              "      <td>1</td>\n",
              "      <td>1</td>\n",
              "      <td>$561,500</td>\n",
              "    </tr>\n",
              "    <tr>\n",
              "      <th>1</th>\n",
              "      <td>2</td>\n",
              "      <td>Acend</td>\n",
              "      <td>5</td>\n",
              "      <td>1</td>\n",
              "      <td>1</td>\n",
              "      <td>1</td>\n",
              "      <td>$498,859</td>\n",
              "    </tr>\n",
              "    <tr>\n",
              "      <th>2</th>\n",
              "      <td>3</td>\n",
              "      <td>Gambit Esports</td>\n",
              "      <td>8</td>\n",
              "      <td>3</td>\n",
              "      <td>0</td>\n",
              "      <td>1</td>\n",
              "      <td>$495,638</td>\n",
              "    </tr>\n",
              "    <tr>\n",
              "      <th>3</th>\n",
              "      <td>4</td>\n",
              "      <td>Team Liquid</td>\n",
              "      <td>4</td>\n",
              "      <td>2</td>\n",
              "      <td>2</td>\n",
              "      <td>0</td>\n",
              "      <td>$295,374</td>\n",
              "    </tr>\n",
              "    <tr>\n",
              "      <th>4</th>\n",
              "      <td>5</td>\n",
              "      <td>G2 Esports</td>\n",
              "      <td>7</td>\n",
              "      <td>2</td>\n",
              "      <td>1</td>\n",
              "      <td>0</td>\n",
              "      <td>$257,925</td>\n",
              "    </tr>\n",
              "  </tbody>\n",
              "</table>\n",
              "</div>\n",
              "    <div class=\"colab-df-buttons\">\n",
              "\n",
              "  <div class=\"colab-df-container\">\n",
              "    <button class=\"colab-df-convert\" onclick=\"convertToInteractive('df-43101f83-9ec4-468a-975d-7dcbb6bc87c8')\"\n",
              "            title=\"Convert this dataframe to an interactive table.\"\n",
              "            style=\"display:none;\">\n",
              "\n",
              "  <svg xmlns=\"http://www.w3.org/2000/svg\" height=\"24px\" viewBox=\"0 -960 960 960\">\n",
              "    <path d=\"M120-120v-720h720v720H120Zm60-500h600v-160H180v160Zm220 220h160v-160H400v160Zm0 220h160v-160H400v160ZM180-400h160v-160H180v160Zm440 0h160v-160H620v160ZM180-180h160v-160H180v160Zm440 0h160v-160H620v160Z\"/>\n",
              "  </svg>\n",
              "    </button>\n",
              "\n",
              "  <style>\n",
              "    .colab-df-container {\n",
              "      display:flex;\n",
              "      gap: 12px;\n",
              "    }\n",
              "\n",
              "    .colab-df-convert {\n",
              "      background-color: #E8F0FE;\n",
              "      border: none;\n",
              "      border-radius: 50%;\n",
              "      cursor: pointer;\n",
              "      display: none;\n",
              "      fill: #1967D2;\n",
              "      height: 32px;\n",
              "      padding: 0 0 0 0;\n",
              "      width: 32px;\n",
              "    }\n",
              "\n",
              "    .colab-df-convert:hover {\n",
              "      background-color: #E2EBFA;\n",
              "      box-shadow: 0px 1px 2px rgba(60, 64, 67, 0.3), 0px 1px 3px 1px rgba(60, 64, 67, 0.15);\n",
              "      fill: #174EA6;\n",
              "    }\n",
              "\n",
              "    .colab-df-buttons div {\n",
              "      margin-bottom: 4px;\n",
              "    }\n",
              "\n",
              "    [theme=dark] .colab-df-convert {\n",
              "      background-color: #3B4455;\n",
              "      fill: #D2E3FC;\n",
              "    }\n",
              "\n",
              "    [theme=dark] .colab-df-convert:hover {\n",
              "      background-color: #434B5C;\n",
              "      box-shadow: 0px 1px 3px 1px rgba(0, 0, 0, 0.15);\n",
              "      filter: drop-shadow(0px 1px 2px rgba(0, 0, 0, 0.3));\n",
              "      fill: #FFFFFF;\n",
              "    }\n",
              "  </style>\n",
              "\n",
              "    <script>\n",
              "      const buttonEl =\n",
              "        document.querySelector('#df-43101f83-9ec4-468a-975d-7dcbb6bc87c8 button.colab-df-convert');\n",
              "      buttonEl.style.display =\n",
              "        google.colab.kernel.accessAllowed ? 'block' : 'none';\n",
              "\n",
              "      async function convertToInteractive(key) {\n",
              "        const element = document.querySelector('#df-43101f83-9ec4-468a-975d-7dcbb6bc87c8');\n",
              "        const dataTable =\n",
              "          await google.colab.kernel.invokeFunction('convertToInteractive',\n",
              "                                                    [key], {});\n",
              "        if (!dataTable) return;\n",
              "\n",
              "        const docLinkHtml = 'Like what you see? Visit the ' +\n",
              "          '<a target=\"_blank\" href=https://colab.research.google.com/notebooks/data_table.ipynb>data table notebook</a>'\n",
              "          + ' to learn more about interactive tables.';\n",
              "        element.innerHTML = '';\n",
              "        dataTable['output_type'] = 'display_data';\n",
              "        await google.colab.output.renderOutput(dataTable, element);\n",
              "        const docLink = document.createElement('div');\n",
              "        docLink.innerHTML = docLinkHtml;\n",
              "        element.appendChild(docLink);\n",
              "      }\n",
              "    </script>\n",
              "  </div>\n",
              "\n",
              "\n",
              "<div id=\"df-61a14cb0-f358-43b7-94eb-aff66134c153\">\n",
              "  <button class=\"colab-df-quickchart\" onclick=\"quickchart('df-61a14cb0-f358-43b7-94eb-aff66134c153')\"\n",
              "            title=\"Suggest charts\"\n",
              "            style=\"display:none;\">\n",
              "\n",
              "<svg xmlns=\"http://www.w3.org/2000/svg\" height=\"24px\"viewBox=\"0 0 24 24\"\n",
              "     width=\"24px\">\n",
              "    <g>\n",
              "        <path d=\"M19 3H5c-1.1 0-2 .9-2 2v14c0 1.1.9 2 2 2h14c1.1 0 2-.9 2-2V5c0-1.1-.9-2-2-2zM9 17H7v-7h2v7zm4 0h-2V7h2v10zm4 0h-2v-4h2v4z\"/>\n",
              "    </g>\n",
              "</svg>\n",
              "  </button>\n",
              "\n",
              "<style>\n",
              "  .colab-df-quickchart {\n",
              "      --bg-color: #E8F0FE;\n",
              "      --fill-color: #1967D2;\n",
              "      --hover-bg-color: #E2EBFA;\n",
              "      --hover-fill-color: #174EA6;\n",
              "      --disabled-fill-color: #AAA;\n",
              "      --disabled-bg-color: #DDD;\n",
              "  }\n",
              "\n",
              "  [theme=dark] .colab-df-quickchart {\n",
              "      --bg-color: #3B4455;\n",
              "      --fill-color: #D2E3FC;\n",
              "      --hover-bg-color: #434B5C;\n",
              "      --hover-fill-color: #FFFFFF;\n",
              "      --disabled-bg-color: #3B4455;\n",
              "      --disabled-fill-color: #666;\n",
              "  }\n",
              "\n",
              "  .colab-df-quickchart {\n",
              "    background-color: var(--bg-color);\n",
              "    border: none;\n",
              "    border-radius: 50%;\n",
              "    cursor: pointer;\n",
              "    display: none;\n",
              "    fill: var(--fill-color);\n",
              "    height: 32px;\n",
              "    padding: 0;\n",
              "    width: 32px;\n",
              "  }\n",
              "\n",
              "  .colab-df-quickchart:hover {\n",
              "    background-color: var(--hover-bg-color);\n",
              "    box-shadow: 0 1px 2px rgba(60, 64, 67, 0.3), 0 1px 3px 1px rgba(60, 64, 67, 0.15);\n",
              "    fill: var(--button-hover-fill-color);\n",
              "  }\n",
              "\n",
              "  .colab-df-quickchart-complete:disabled,\n",
              "  .colab-df-quickchart-complete:disabled:hover {\n",
              "    background-color: var(--disabled-bg-color);\n",
              "    fill: var(--disabled-fill-color);\n",
              "    box-shadow: none;\n",
              "  }\n",
              "\n",
              "  .colab-df-spinner {\n",
              "    border: 2px solid var(--fill-color);\n",
              "    border-color: transparent;\n",
              "    border-bottom-color: var(--fill-color);\n",
              "    animation:\n",
              "      spin 1s steps(1) infinite;\n",
              "  }\n",
              "\n",
              "  @keyframes spin {\n",
              "    0% {\n",
              "      border-color: transparent;\n",
              "      border-bottom-color: var(--fill-color);\n",
              "      border-left-color: var(--fill-color);\n",
              "    }\n",
              "    20% {\n",
              "      border-color: transparent;\n",
              "      border-left-color: var(--fill-color);\n",
              "      border-top-color: var(--fill-color);\n",
              "    }\n",
              "    30% {\n",
              "      border-color: transparent;\n",
              "      border-left-color: var(--fill-color);\n",
              "      border-top-color: var(--fill-color);\n",
              "      border-right-color: var(--fill-color);\n",
              "    }\n",
              "    40% {\n",
              "      border-color: transparent;\n",
              "      border-right-color: var(--fill-color);\n",
              "      border-top-color: var(--fill-color);\n",
              "    }\n",
              "    60% {\n",
              "      border-color: transparent;\n",
              "      border-right-color: var(--fill-color);\n",
              "    }\n",
              "    80% {\n",
              "      border-color: transparent;\n",
              "      border-right-color: var(--fill-color);\n",
              "      border-bottom-color: var(--fill-color);\n",
              "    }\n",
              "    90% {\n",
              "      border-color: transparent;\n",
              "      border-bottom-color: var(--fill-color);\n",
              "    }\n",
              "  }\n",
              "</style>\n",
              "\n",
              "  <script>\n",
              "    async function quickchart(key) {\n",
              "      const quickchartButtonEl =\n",
              "        document.querySelector('#' + key + ' button');\n",
              "      quickchartButtonEl.disabled = true;  // To prevent multiple clicks.\n",
              "      quickchartButtonEl.classList.add('colab-df-spinner');\n",
              "      try {\n",
              "        const charts = await google.colab.kernel.invokeFunction(\n",
              "            'suggestCharts', [key], {});\n",
              "      } catch (error) {\n",
              "        console.error('Error during call to suggestCharts:', error);\n",
              "      }\n",
              "      quickchartButtonEl.classList.remove('colab-df-spinner');\n",
              "      quickchartButtonEl.classList.add('colab-df-quickchart-complete');\n",
              "    }\n",
              "    (() => {\n",
              "      let quickchartButtonEl =\n",
              "        document.querySelector('#df-61a14cb0-f358-43b7-94eb-aff66134c153 button');\n",
              "      quickchartButtonEl.style.display =\n",
              "        google.colab.kernel.accessAllowed ? 'block' : 'none';\n",
              "    })();\n",
              "  </script>\n",
              "</div>\n",
              "\n",
              "    </div>\n",
              "  </div>\n"
            ],
            "application/vnd.google.colaboratory.intrinsic+json": {
              "type": "dataframe",
              "variable_name": "df",
              "summary": "{\n  \"name\": \"df\",\n  \"rows\": 402,\n  \"fields\": [\n    {\n      \"column\": \"Rank\",\n      \"properties\": {\n        \"dtype\": \"number\",\n        \"std\": 116,\n        \"min\": 1,\n        \"max\": 402,\n        \"num_unique_values\": 390,\n        \"samples\": [\n          10,\n          43,\n          34\n        ],\n        \"semantic_type\": \"\",\n        \"description\": \"\"\n      }\n    },\n    {\n      \"column\": \"Team\",\n      \"properties\": {\n        \"dtype\": \"string\",\n        \"num_unique_values\": 402,\n        \"samples\": [\n          \"SAW\",\n          \"SuperMassive Blaze Female\",\n          \"Ninjas in Pyjamas\"\n        ],\n        \"semantic_type\": \"\",\n        \"description\": \"\"\n      }\n    },\n    {\n      \"column\": \"Gold\",\n      \"properties\": {\n        \"dtype\": \"number\",\n        \"std\": 3,\n        \"min\": 0,\n        \"max\": 19,\n        \"num_unique_values\": 19,\n        \"samples\": [\n          12,\n          2,\n          19\n        ],\n        \"semantic_type\": \"\",\n        \"description\": \"\"\n      }\n    },\n    {\n      \"column\": \"Silver\",\n      \"properties\": {\n        \"dtype\": \"number\",\n        \"std\": 1,\n        \"min\": 0,\n        \"max\": 11,\n        \"num_unique_values\": 12,\n        \"samples\": [\n          9,\n          10,\n          3\n        ],\n        \"semantic_type\": \"\",\n        \"description\": \"\"\n      }\n    },\n    {\n      \"column\": \"Bronze\",\n      \"properties\": {\n        \"dtype\": \"number\",\n        \"std\": 1,\n        \"min\": 0,\n        \"max\": 7,\n        \"num_unique_values\": 8,\n        \"samples\": [\n          0,\n          3,\n          1\n        ],\n        \"semantic_type\": \"\",\n        \"description\": \"\"\n      }\n    },\n    {\n      \"column\": \"S Tier\",\n      \"properties\": {\n        \"dtype\": \"number\",\n        \"std\": 0,\n        \"min\": 0,\n        \"max\": 1,\n        \"num_unique_values\": 2,\n        \"samples\": [\n          0,\n          1\n        ],\n        \"semantic_type\": \"\",\n        \"description\": \"\"\n      }\n    },\n    {\n      \"column\": \"Earnings\",\n      \"properties\": {\n        \"dtype\": \"string\",\n        \"num_unique_values\": 390,\n        \"samples\": [\n          \"$191,000\",\n          \"$54,250\"\n        ],\n        \"semantic_type\": \"\",\n        \"description\": \"\"\n      }\n    }\n  ]\n}"
            }
          },
          "metadata": {},
          "execution_count": 21
        }
      ]
    },
    {
      "cell_type": "code",
      "source": [
        "print (df)"
      ],
      "metadata": {
        "id": "VFEAM6MWan6i",
        "outputId": "dc923fca-8643-49b7-a186-cdc304ea54c3",
        "colab": {
          "base_uri": "https://localhost:8080/"
        }
      },
      "execution_count": 22,
      "outputs": [
        {
          "output_type": "stream",
          "name": "stdout",
          "text": [
            "     Rank              Team  Gold  Silver  Bronze  S Tier  Earnings\n",
            "0       1         Sentinels    12       3       1       1  $561,500\n",
            "1       2             Acend     5       1       1       1  $498,859\n",
            "2       3    Gambit Esports     8       3       0       1  $495,638\n",
            "3       4       Team Liquid     4       2       2       0  $295,374\n",
            "4       5        G2 Esports     7       2       1       0  $257,925\n",
            "..    ...               ...   ...     ...     ...     ...       ...\n",
            "397   398  Unicorns of Love     0       0       0       0      $282\n",
            "398   399        Nora-Rengo     1       0       0       0      $267\n",
            "399   400       Lunatic-hai     0       0       1       0      $247\n",
            "400   401     DETONA Gaming     1       0       0       0      $107\n",
            "401   402  Lunatic-hai FLUX     0       1       0       0       $92\n",
            "\n",
            "[402 rows x 7 columns]\n"
          ]
        }
      ]
    },
    {
      "cell_type": "code",
      "source": [
        "import pandas as pd\n",
        "data = {\n",
        "    'Rank': [1, 2, 3, 4, 5],\n",
        "    'Team': ['Sentinels', 'Acend', 'Gambit Esports', 'Team Liquid', 'G2 Esports'],\n",
        "    'Gold': [12, 5, 8, 4, 7],\n",
        "    'Silver': [3, 1, 3, 2, 2],\n",
        "    'Bronze': [1, 1, 1, 2, 1],\n",
        "    'S Tier': [1, 1, 1, 0, 1],\n",
        "    'Earnings': ['$561,500', '$498,859', '$495,638', '$295,374', '$257,925']\n",
        "}\n",
        "\n",
        "df = pd.DataFrame(data)\n",
        "print(df)\n"
      ],
      "metadata": {
        "id": "ZNoWChEGbmJZ",
        "outputId": "f418fb6f-6f17-4c1b-9c34-366bad27414b",
        "colab": {
          "base_uri": "https://localhost:8080/"
        }
      },
      "execution_count": 23,
      "outputs": [
        {
          "output_type": "stream",
          "name": "stdout",
          "text": [
            "   Rank            Team  Gold  Silver  Bronze  S Tier  Earnings\n",
            "0     1       Sentinels    12       3       1       1  $561,500\n",
            "1     2           Acend     5       1       1       1  $498,859\n",
            "2     3  Gambit Esports     8       3       1       1  $495,638\n",
            "3     4     Team Liquid     4       2       2       0  $295,374\n",
            "4     5      G2 Esports     7       2       1       1  $257,925\n"
          ]
        }
      ]
    },
    {
      "cell_type": "code",
      "source": [
        "import pandas as pd\n",
        "\n",
        "data = [\n",
        "    {'Rank': 1, 'Team': 'Sentinels', 'Gold': 12, 'Silver': 3, 'Bronze': 1, 'S Tier': 1, 'Earnings': '$561,500'},\n",
        "    {'Rank': 2, 'Team': 'Acend', 'Gold': 5, 'Silver': 1, 'Bronze': 1, 'S Tier': 1, 'Earnings': '$498,859'},\n",
        "    {'Rank': 3, 'Team': 'Gambit Esports', 'Gold': 8, 'Silver': 3, 'Bronze': 1, 'S Tier': 1, 'Earnings': '$495,638'},\n",
        "    {'Rank': 4, 'Team': 'Team Liquid', 'Gold': 4, 'Silver': 2, 'Bronze': 2, 'S Tier': 0, 'Earnings': '$295,374'},\n",
        "    {'Rank': 5, 'Team': 'G2 Esports', 'Gold': 7, 'Silver': 2, 'Bronze': 1, 'S Tier': 1, 'Earnings': '$257,925'}\n",
        "]\n",
        "\n",
        "df = pd.DataFrame(data)\n",
        "print(df)\n"
      ],
      "metadata": {
        "id": "mo-1MQHLdD-x",
        "outputId": "a3e5fb7d-2182-466d-b9f4-25e8857c65e8",
        "colab": {
          "base_uri": "https://localhost:8080/"
        }
      },
      "execution_count": 24,
      "outputs": [
        {
          "output_type": "stream",
          "name": "stdout",
          "text": [
            "   Rank            Team  Gold  Silver  Bronze  S Tier  Earnings\n",
            "0     1       Sentinels    12       3       1       1  $561,500\n",
            "1     2           Acend     5       1       1       1  $498,859\n",
            "2     3  Gambit Esports     8       3       1       1  $495,638\n",
            "3     4     Team Liquid     4       2       2       0  $295,374\n",
            "4     5      G2 Esports     7       2       1       1  $257,925\n"
          ]
        }
      ]
    },
    {
      "cell_type": "code",
      "source": [
        "#Selecting a single dataframe column\n",
        "singleColumn =df ['Team']\n",
        "print(singleColumn)"
      ],
      "metadata": {
        "id": "IEE3kvjtd284",
        "outputId": "92537383-b297-44d8-adda-f18c8d66ab04",
        "colab": {
          "base_uri": "https://localhost:8080/"
        }
      },
      "execution_count": 37,
      "outputs": [
        {
          "output_type": "stream",
          "name": "stdout",
          "text": [
            "0         Sentinels\n",
            "1             Acend\n",
            "2    Gambit Esports\n",
            "3       Team Liquid\n",
            "4        G2 Esports\n",
            "Name: Team, dtype: object\n"
          ]
        }
      ]
    },
    {
      "cell_type": "code",
      "source": [
        "# Selecting multiple dataframe columns\n",
        "multipleColumns = df[['Team', 'Earnings']]\n",
        "print(multipleColumns)\n"
      ],
      "metadata": {
        "id": "gaCFR9GEeGzQ",
        "outputId": "5bd5a15b-c1d4-44d8-cc3e-855ebb087159",
        "colab": {
          "base_uri": "https://localhost:8080/"
        }
      },
      "execution_count": 39,
      "outputs": [
        {
          "output_type": "stream",
          "name": "stdout",
          "text": [
            "             Team  Earnings\n",
            "0       Sentinels  $561,500\n",
            "1           Acend  $498,859\n",
            "2  Gambit Esports  $495,638\n",
            "3     Team Liquid  $295,374\n",
            "4      G2 Esports  $257,925\n"
          ]
        }
      ]
    },
    {
      "cell_type": "code",
      "source": [
        "#Selecting a single dataframe rows\n",
        "singleRow =df.loc[:0]\n",
        "print(singleRow)"
      ],
      "metadata": {
        "id": "woPOBFBsfHWA",
        "outputId": "b1b304ed-bd36-4da5-fa05-5d100f6b486a",
        "colab": {
          "base_uri": "https://localhost:8080/"
        }
      },
      "execution_count": 35,
      "outputs": [
        {
          "output_type": "stream",
          "name": "stdout",
          "text": [
            "   Rank       Team  Gold  Silver  Bronze  S Tier  Earnings\n",
            "0     1  Sentinels    12       3       1       1  $561,500\n"
          ]
        }
      ]
    },
    {
      "cell_type": "code",
      "source": [
        "# Selecting multiple dataframe rows\n",
        "multipleRow =df.loc[0:2]\n",
        "print(multipleRow)"
      ],
      "metadata": {
        "id": "AOBAREnifob_",
        "outputId": "e1eacdd0-3cd6-41d7-cd90-62411e5ffd15",
        "colab": {
          "base_uri": "https://localhost:8080/"
        }
      },
      "execution_count": 36,
      "outputs": [
        {
          "output_type": "stream",
          "name": "stdout",
          "text": [
            "   Rank            Team  Gold  Silver  Bronze  S Tier  Earnings\n",
            "0     1       Sentinels    12       3       1       1  $561,500\n",
            "1     2           Acend     5       1       1       1  $498,859\n",
            "2     3  Gambit Esports     8       3       1       1  $495,638\n"
          ]
        }
      ]
    },
    {
      "cell_type": "code",
      "source": [
        "singleRow = df.iloc[[0]]\n",
        "print(singleRow)\n"
      ],
      "metadata": {
        "id": "zkSOE9wngrKI",
        "outputId": "8a13c6a3-2cc6-4ecb-f5ba-32bf8de78302",
        "colab": {
          "base_uri": "https://localhost:8080/"
        }
      },
      "execution_count": 41,
      "outputs": [
        {
          "output_type": "stream",
          "name": "stdout",
          "text": [
            "   Rank       Team  Gold  Silver  Bronze  S Tier  Earnings\n",
            "0     1  Sentinels    12       3       1       1  $561,500\n"
          ]
        }
      ]
    },
    {
      "cell_type": "code",
      "source": [
        "multipleRow =df.iloc[0:2]\n",
        "print(multipleRow)"
      ],
      "metadata": {
        "id": "R_n97Cmhg2YH",
        "outputId": "97ef92ae-3c7c-4f05-a2ab-8f808a9f156b",
        "colab": {
          "base_uri": "https://localhost:8080/"
        }
      },
      "execution_count": 43,
      "outputs": [
        {
          "output_type": "stream",
          "name": "stdout",
          "text": [
            "   Rank       Team  Gold  Silver  Bronze  S Tier  Earnings\n",
            "0     1  Sentinels    12       3       1       1  $561,500\n",
            "1     2      Acend     5       1       1       1  $498,859\n"
          ]
        }
      ]
    }
  ]
}