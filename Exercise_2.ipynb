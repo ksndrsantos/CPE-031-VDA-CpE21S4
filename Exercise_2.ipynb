{
  "nbformat": 4,
  "nbformat_minor": 0,
  "metadata": {
    "colab": {
      "provenance": [],
      "authorship_tag": "ABX9TyNbkg6W8hOS94+RcAZphtL0",
      "include_colab_link": true
    },
    "kernelspec": {
      "name": "python3",
      "display_name": "Python 3"
    },
    "language_info": {
      "name": "python"
    }
  },
  "cells": [
    {
      "cell_type": "markdown",
      "metadata": {
        "id": "view-in-github",
        "colab_type": "text"
      },
      "source": [
        "<a href=\"https://colab.research.google.com/github/ksndrsantos/CpE-031-VDA-CpE21s4/blob/main/Exercise_2.ipynb\" target=\"_parent\"><img src=\"https://colab.research.google.com/assets/colab-badge.svg\" alt=\"Open In Colab\"/></a>"
      ]
    },
    {
      "cell_type": "markdown",
      "source": [
        "# **Exercise 2 - Example 1**"
      ],
      "metadata": {
        "id": "Z7JNccdPygVo"
      }
    },
    {
      "cell_type": "code",
      "execution_count": 4,
      "metadata": {
        "colab": {
          "base_uri": "https://localhost:8080/"
        },
        "id": "LRttATttvfqk",
        "outputId": "b20f6fb2-554b-4132-ce7a-56405c815467"
      },
      "outputs": [
        {
          "output_type": "stream",
          "name": "stdout",
          "text": [
            "  animals  height\n",
            "0     Cat      13\n",
            "1     Dog      17\n",
            "2  Rabbit       8\n"
          ]
        }
      ],
      "source": [
        "import pandas\n",
        "\n",
        "mydataset = {\n",
        "  'animals': [\"Cat\", \"Dog\", \"Rabbit\"],\n",
        "  'height': [13, 17, 8]\n",
        "}\n",
        "\n",
        "myvar = pandas.DataFrame(mydataset)\n",
        "\n",
        "print(myvar)\n"
      ]
    },
    {
      "cell_type": "markdown",
      "source": [
        "# **Exercise 2 - Example 2**"
      ],
      "metadata": {
        "id": "sSRfzXIw3Tj3"
      }
    },
    {
      "cell_type": "code",
      "source": [
        "import pandas as pd\n",
        "\n",
        "a = [1,7,2]\n",
        "\n",
        "myvar = pd.Series(a)\n",
        "\n",
        "print(myvar)"
      ],
      "metadata": {
        "colab": {
          "base_uri": "https://localhost:8080/"
        },
        "id": "fyUx56pP3Uz8",
        "outputId": "e8f9b687-d759-4101-aeb6-9ed35aa4294a"
      },
      "execution_count": 38,
      "outputs": [
        {
          "output_type": "stream",
          "name": "stdout",
          "text": [
            "0    1\n",
            "1    7\n",
            "2    2\n",
            "dtype: int64\n"
          ]
        }
      ]
    },
    {
      "cell_type": "code",
      "source": [
        "import pandas as pd\n",
        "\n",
        "a = [1.5,7.5,2.5]\n",
        "\n",
        "myvar = pd.Series(a)\n",
        "\n",
        "print(myvar)"
      ],
      "metadata": {
        "colab": {
          "base_uri": "https://localhost:8080/"
        },
        "id": "9OsdD1W832Sb",
        "outputId": "24e29774-bf99-46cd-f7d7-43af94586cfb"
      },
      "execution_count": 6,
      "outputs": [
        {
          "output_type": "stream",
          "name": "stdout",
          "text": [
            "0    1.5\n",
            "1    7.5\n",
            "2    2.5\n",
            "dtype: float64\n"
          ]
        }
      ]
    },
    {
      "cell_type": "markdown",
      "source": [
        "# **Exercise 2 - Example 3**"
      ],
      "metadata": {
        "id": "1gFZp4Im7190"
      }
    },
    {
      "cell_type": "code",
      "source": [
        "import pandas as pd\n",
        "\n",
        "data = {\n",
        "    \"age\" :[42,38,39],\n",
        "    \"weight\" : [50,40,45]\n",
        "}\n",
        "\n",
        "myvar = pd.DataFrame(data)\n",
        "\n",
        "print(myvar.loc [[0]])\n",
        "print(myvar.loc [[0,1]])\n",
        "print(myvar.loc [[0,1,2]])"
      ],
      "metadata": {
        "colab": {
          "base_uri": "https://localhost:8080/"
        },
        "id": "DWPvvpO571pv",
        "outputId": "130e26ad-6908-4cc9-9b90-6f19c965074a"
      },
      "execution_count": 14,
      "outputs": [
        {
          "output_type": "stream",
          "name": "stdout",
          "text": [
            "   age  weight\n",
            "0   42      50\n",
            "   age  weight\n",
            "0   42      50\n",
            "1   38      40\n",
            "   age  weight\n",
            "0   42      50\n",
            "1   38      40\n",
            "2   39      45\n"
          ]
        }
      ]
    },
    {
      "cell_type": "markdown",
      "source": [
        "# **Exercise 2 - Example 4**"
      ],
      "metadata": {
        "id": "A9IFRxQG_ctj"
      }
    },
    {
      "cell_type": "code",
      "source": [
        "import pandas as pd\n",
        "\n",
        "s1 =pd.Series ([0,8,4])\n",
        "s2 =pd.Series ([1,7,5])\n",
        "s3 =pd.Series ([2,6,10])\n",
        "s4 =pd.Series ([3,5,9])\n",
        "\n",
        "dframe = pd.DataFrame ([s1,s2,s3])\n",
        "dframe = (dframe.drop([0]))\n",
        "print(dframe)"
      ],
      "metadata": {
        "colab": {
          "base_uri": "https://localhost:8080/"
        },
        "id": "5-V7I9sE_hJQ",
        "outputId": "17144d7b-cf5a-4d71-8bb2-90def3e09ebb"
      },
      "execution_count": 29,
      "outputs": [
        {
          "output_type": "stream",
          "name": "stdout",
          "text": [
            "   0  1   2\n",
            "1  1  7   5\n",
            "2  2  6  10\n"
          ]
        }
      ]
    },
    {
      "cell_type": "code",
      "source": [
        "import pandas as pd\n",
        "\n",
        "dframe = pd.DataFrame(index = [0,1,2], columns=[0,1,2])\n",
        "s1 =pd.Series ([0,8,4])\n",
        "s2 =pd.Series ([1,7,5])\n",
        "s3 =pd.Series ([2,6,10])\n",
        "s4 =pd.Series ([3,5,9])\n",
        "\n",
        "dframe = pd.DataFrame ([s1,s2,s3,s4])\n",
        "\n",
        "dframe = pd.DataFrame ([s1,s2,s3,s4], index=[0,1,2,3], columns=[0,1,2])\n",
        "print(dframe)"
      ],
      "metadata": {
        "colab": {
          "base_uri": "https://localhost:8080/"
        },
        "id": "hdF-k2lSFHoL",
        "outputId": "bec3a8fc-a7e1-4fb3-a5d7-4edc49f49037"
      },
      "execution_count": 37,
      "outputs": [
        {
          "output_type": "stream",
          "name": "stdout",
          "text": [
            "   0  1   2\n",
            "0  0  8   4\n",
            "1  1  7   5\n",
            "2  2  6  10\n",
            "3  3  5   9\n"
          ]
        }
      ]
    },
    {
      "cell_type": "markdown",
      "source": [
        "# **Exercise 2 - CHALLENGE 2**\n",
        "\n",
        "Deleting indices 0,1,3 leaving all items in index 2"
      ],
      "metadata": {
        "id": "rjvuvKjhHjGR"
      }
    },
    {
      "cell_type": "code",
      "source": [
        "import pandas as pd\n",
        "\n",
        "dframe = pd.DataFrame(index = [0,1,2], columns=[0,1,2])\n",
        "s1 =pd.Series ([0,8,4])\n",
        "s2 =pd.Series ([1,7,5])\n",
        "s3 =pd.Series ([2,6,10])\n",
        "s4 =pd.Series ([3,5,9])\n",
        "\n",
        "dframe = pd.DataFrame ([s1,s2,s3,s4], index=[0,1,2,3], columns=[0,1,2])\n",
        "dframe = pd.DataFrame ([s1,s2,s3,s4])\n",
        "\n",
        "dframe = pd.DataFrame.drop(dframe, [0,1,3])\n",
        "print(dframe)\n"
      ],
      "metadata": {
        "colab": {
          "base_uri": "https://localhost:8080/"
        },
        "id": "vGxqfKRJHhiR",
        "outputId": "e759458b-285d-4612-837a-7fa1f6db9c9e"
      },
      "execution_count": 39,
      "outputs": [
        {
          "output_type": "stream",
          "name": "stdout",
          "text": [
            "   0  1   2\n",
            "2  2  6  10\n"
          ]
        }
      ]
    }
  ]
}