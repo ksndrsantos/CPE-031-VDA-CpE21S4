{
  "nbformat": 4,
  "nbformat_minor": 0,
  "metadata": {
    "colab": {
      "provenance": [],
      "authorship_tag": "ABX9TyM5n1CK9T4l1bLuFZ+12vdH",
      "include_colab_link": true
    },
    "kernelspec": {
      "name": "python3",
      "display_name": "Python 3"
    },
    "language_info": {
      "name": "python"
    }
  },
  "cells": [
    {
      "cell_type": "markdown",
      "metadata": {
        "id": "view-in-github",
        "colab_type": "text"
      },
      "source": [
        "<a href=\"https://colab.research.google.com/github/ksndrsantos/CpE-031-VDA-CpE21s4/blob/main/Santos_Ma_Challenge_2!.ipynb\" target=\"_parent\"><img src=\"https://colab.research.google.com/assets/colab-badge.svg\" alt=\"Open In Colab\"/></a>"
      ]
    },
    {
      "cell_type": "code",
      "execution_count": null,
      "metadata": {
        "id": "cF2FmJBNuxKE"
      },
      "outputs": [],
      "source": []
    },
    {
      "cell_type": "markdown",
      "source": [
        "NAME: Santos, Ma. Kassandra Nicole D.\n",
        "\n",
        "SECTION: CPE21S4\n",
        "\n",
        "\n",
        "---\n",
        "\n",
        "\n",
        "**Directions:** Create a function that simulates coin flip repeated n times, with 0 representing tails and 1 representing heads. Make the function a generator with the parameter n as the number of coin flips.\n",
        "\n",
        "Use the numpy library as np and function of np.random.randint() in order to simulate a coin flip. After defining this function, return the result as a List using List Comprehension discussed previously"
      ],
      "metadata": {
        "id": "Z-kWgYoTvJDe"
      }
    },
    {
      "cell_type": "code",
      "source": [
        "import numpy as np\n",
        "def coinFlip(n):\n",
        "  for i in range (n):\n",
        "    yield np.random.randint (0,2)\n",
        "\n",
        "n= int(input(\"Please enter the number of coin flips: \"))\n",
        "result = [flip for flip in coinFlip(n)]\n",
        "print (\"Here is the result of the coin flips!: \",(result))\n",
        "print (\"NOTE: zero (0) represents the tails and one (1) represents the heads\")\n",
        "\n"
      ],
      "metadata": {
        "colab": {
          "base_uri": "https://localhost:8080/"
        },
        "id": "V27wYpjywNEM",
        "outputId": "2ccd57c4-d72f-4816-86ed-1faa6841315f"
      },
      "execution_count": 1,
      "outputs": [
        {
          "output_type": "stream",
          "name": "stdout",
          "text": [
            "Please enter the number of coin flips: 10\n",
            "Here is the result of the coin flips!:  [0, 1, 1, 1, 0, 0, 1, 0, 0, 0]\n",
            "NOTE: zero (0) represents the tails and one (1) represents the heads\n"
          ]
        }
      ]
    },
    {
      "cell_type": "markdown",
      "source": [
        "\n",
        "In the code I have made, since there is no specific amount of number of flips since the parameter has been set to \"n\". I have placed a user input in order for the code to work."
      ],
      "metadata": {
        "id": "joFlCVnw3yuV"
      }
    }
  ]
}