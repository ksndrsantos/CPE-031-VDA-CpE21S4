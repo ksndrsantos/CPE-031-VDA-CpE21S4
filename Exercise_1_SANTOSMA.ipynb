{
  "nbformat": 4,
  "nbformat_minor": 0,
  "metadata": {
    "colab": {
      "provenance": [],
      "authorship_tag": "ABX9TyNILOWknKWkXGjp17Evt7Ud",
      "include_colab_link": true
    },
    "kernelspec": {
      "name": "python3",
      "display_name": "Python 3"
    },
    "language_info": {
      "name": "python"
    }
  },
  "cells": [
    {
      "cell_type": "markdown",
      "metadata": {
        "id": "view-in-github",
        "colab_type": "text"
      },
      "source": [
        "<a href=\"https://colab.research.google.com/github/ksndrsantos/CpE-031-VDA-CpE21s4/blob/main/Exercise_1_SANTOSMA.ipynb\" target=\"_parent\"><img src=\"https://colab.research.google.com/assets/colab-badge.svg\" alt=\"Open In Colab\"/></a>"
      ]
    },
    {
      "cell_type": "markdown",
      "source": [
        "Exercise 1\n",
        " 1. Vairable and Data Types\n",
        "\n",
        "# **NUMBERS**\n",
        "\n",
        "varNum = 123\n",
        "\n",
        "pi = 3.14159\n",
        "\n",
        "\n",
        "STRINGS\n",
        "\n",
        "varString = \"Hello World!\"\n",
        "\n",
        "varText = 'This is a String'\n",
        "\n",
        "LIST\n",
        "\n",
        "varlist = [\"abc\",123]\n",
        "\n",
        "TUPLES\n",
        "\n",
        "varTuple = ('abc,123,\"HELLO\")\n",
        "\n",
        "DICTIONARIES\n",
        "\n",
        "var = 3\n",
        "\n",
        "varDict = {'first':1, '2':'2nd', 3:var}\n",
        "\n",
        "varDict ={}\n",
        "\n",
        "varDict ['first'] = 1\n",
        "\n",
        "varDict ['2'] = 2nd\n",
        "\n",
        "varDict[3] =var\n"
      ],
      "metadata": {
        "id": "CZGqkMAc19eJ"
      }
    },
    {
      "cell_type": "markdown",
      "source": [
        "# **ARITHMETIC**\n",
        "\n",
        "Addition\n",
        "a = 5+3\n",
        ">= 8\n",
        "\n",
        "Subtraction\n",
        "a = 5-3\n",
        "> = 2\n",
        "\n",
        "Multiplication\n",
        "a = 5*3\n",
        ">= 15\n",
        "\n",
        "Exponent\n",
        "a = 5**3\n",
        ">= 125\n",
        "\n",
        "Divsion\n",
        "\n",
        "a = 5/3\n",
        ">= 1.66667\n",
        "\n",
        "a =  5 % 3\n",
        "> = 2\n",
        "\n",
        "a = 5//3\n",
        "> = 1\n",
        "\n",
        "Decrement\n",
        "a = 5\n",
        "a -= 1\n",
        "> a = 4\n",
        "\n",
        "Increment\n",
        "\n",
        "a = 5\n",
        "a += 1\n",
        ">a = 6\n",
        "\n",
        "String Concatenation\n",
        "\n",
        "a = 'Hello' + 'World'\n",
        "> Hello Worold\n",
        "\n",
        "Complex Expressions\n",
        "a = 3+5-6*2/4\n",
        "> 5.0\n",
        "\n"
      ],
      "metadata": {
        "id": "ViMMVFpp4iz4"
      }
    },
    {
      "cell_type": "markdown",
      "source": [
        "# **CONDITIONAL STATEMENTS AND DATA STRUCTURES**\n",
        "\n",
        "--- BOOLEAN CONDITIONS ---\n",
        "\n",
        "x = True\n",
        "\n",
        "if x:\n",
        "  \n",
        "  print (\"var is True\")\n",
        "\n",
        "else\n",
        "\n",
        "  print(\"var is false\")\n",
        "\n",
        "--- STRING CONDITIONS ---\n",
        "\n",
        "x= \"Hello World!\"\n",
        "\n",
        "if x == 'Hello World!':\n",
        "\n",
        "  print (\"var x is Hello World!\")\n",
        "\n",
        "else:\n",
        "\n",
        "  print (\"var x is not Hello World!\")\n",
        "\n",
        "--- NUMERICAL CONDITIONS ---\n",
        "\n",
        "x = 10\n",
        "\n",
        "if x == '10':\n",
        "  \n",
        "  print(\"var x is a string\")\n",
        "\n",
        "elif x == 10:\n",
        "  print (\"var is an integer\")\n",
        "\n",
        "else:\n",
        "  print (\"var is non of the above\")"
      ],
      "metadata": {
        "id": "8yclM6Na7SFW"
      }
    },
    {
      "cell_type": "markdown",
      "source": [
        "CHECKING IF THE CODE WORKS"
      ],
      "metadata": {
        "id": "y53WUUop_l1q"
      }
    },
    {
      "cell_type": "code",
      "execution_count": 2,
      "metadata": {
        "colab": {
          "base_uri": "https://localhost:8080/"
        },
        "id": "oDxTnxxP1u3D",
        "outputId": "f041dc69-b2d1-417d-ba56-ca049c37aa07"
      },
      "outputs": [
        {
          "output_type": "stream",
          "name": "stdout",
          "text": [
            "var is true\n"
          ]
        }
      ],
      "source": [
        "x= True\n",
        "\n",
        "if x:\n",
        "    print(\"var is true\")\n",
        "else:\n",
        "    print(\"var is false\")"
      ]
    },
    {
      "cell_type": "code",
      "source": [
        "x= \"Hello World!\"\n",
        "\n",
        "if x == 'Hello World!':\n",
        " print (\"var x is Hello World!\")\n",
        "else:\n",
        "\n",
        "  print (\"var x is not Hello World!\")"
      ],
      "metadata": {
        "colab": {
          "base_uri": "https://localhost:8080/"
        },
        "id": "sexAryhj28_w",
        "outputId": "1d0ff47b-ca16-41f8-a2c2-af3fe84bafec"
      },
      "execution_count": 3,
      "outputs": [
        {
          "output_type": "stream",
          "name": "stdout",
          "text": [
            "var x is Hello World!\n"
          ]
        }
      ]
    },
    {
      "cell_type": "code",
      "source": [
        "x = 10\n",
        "\n",
        "if x == '10':\n",
        "\n",
        "  print(\"var x is a string\")\n",
        "\n",
        "elif x == 10:\n",
        "  print (\"var is an integer\")\n",
        "\n",
        "else:\n",
        "  print (\"var is non of the above\")"
      ],
      "metadata": {
        "colab": {
          "base_uri": "https://localhost:8080/"
        },
        "id": "QSSlzRm-9P8c",
        "outputId": "7a1d969b-62cb-447a-a4bf-c1dd9c1f1169"
      },
      "execution_count": 4,
      "outputs": [
        {
          "output_type": "stream",
          "name": "stdout",
          "text": [
            "var is an integer\n"
          ]
        }
      ]
    },
    {
      "cell_type": "markdown",
      "source": [],
      "metadata": {
        "id": "uq2hMHOt17tp"
      }
    },
    {
      "cell_type": "markdown",
      "source": [
        "# **LOOPS**\n",
        "\n",
        "loop declaration ends with a colon (:) while its contents inside are indented\n",
        "\n",
        "--- FOR LOOPS ---\n",
        "\n",
        "for var in range (0,5,2):\n",
        "\n",
        "  print (var)\n",
        "\n",
        "--- WHILE LOOPS ---\n",
        "\n",
        "var = 0\n",
        "\n",
        "while var <5:\n",
        "\n",
        "    print(var)\n",
        "\n",
        "    var +=2\n",
        "\n",
        "--- WHILE LOOPS ---\n",
        "\n",
        "x = 0\n",
        "\n",
        "while x <5:\n",
        "\n",
        "    for y in range (0,x):\n",
        "\n",
        "      print (y, end='')\n",
        "\n",
        "    x += 1\n",
        "\n",
        "    print ()"
      ],
      "metadata": {
        "id": "TmzZm6GY9cqk"
      }
    },
    {
      "cell_type": "markdown",
      "source": [
        "CHECKING IF THE CODE WORKS"
      ],
      "metadata": {
        "id": "kujdEwtO_gSa"
      }
    },
    {
      "cell_type": "code",
      "source": [
        "for var in range (0,5,2):\n",
        "  print (var)"
      ],
      "metadata": {
        "colab": {
          "base_uri": "https://localhost:8080/"
        },
        "id": "7OrYO3Ox9hM7",
        "outputId": "75ce7ce0-243b-4dc6-98da-51a87237ac0f"
      },
      "execution_count": 5,
      "outputs": [
        {
          "output_type": "stream",
          "name": "stdout",
          "text": [
            "0\n",
            "2\n",
            "4\n"
          ]
        }
      ]
    },
    {
      "cell_type": "code",
      "source": [
        "var = 0\n",
        "while var <5:\n",
        "    print(var)\n",
        "    var +=2"
      ],
      "metadata": {
        "colab": {
          "base_uri": "https://localhost:8080/"
        },
        "id": "-pFw_LOS9vg7",
        "outputId": "248f41a1-cd76-44e7-bae2-f99b187e52ee"
      },
      "execution_count": 6,
      "outputs": [
        {
          "output_type": "stream",
          "name": "stdout",
          "text": [
            "0\n",
            "2\n",
            "4\n"
          ]
        }
      ]
    },
    {
      "cell_type": "code",
      "source": [
        "x = 0\n",
        "while x <5:\n",
        "    for y in range (0,x):\n",
        "      print (y, end='')\n",
        "    x += 1\n",
        "    print ()"
      ],
      "metadata": {
        "colab": {
          "base_uri": "https://localhost:8080/"
        },
        "id": "yxXLdwFy-CKD",
        "outputId": "a8942545-6285-40b2-ffc1-4fc3abceaa79"
      },
      "execution_count": 7,
      "outputs": [
        {
          "output_type": "stream",
          "name": "stdout",
          "text": [
            "\n",
            "0\n",
            "01\n",
            "012\n",
            "0123\n"
          ]
        }
      ]
    },
    {
      "cell_type": "markdown",
      "source": [
        "# **LIST**\n",
        "\n",
        "contains a number of values comprised of different datatypes\n",
        "\n",
        "List starts with an index of 0.\n",
        "the remove90 method erases the first valie that matches the parameter.\n",
        "\n",
        "----EXAMPLE ----\n"
      ],
      "metadata": {
        "id": "EnzE6nvL_2GZ"
      }
    },
    {
      "cell_type": "code",
      "source": [
        "pi = 3.14159\n",
        "varList = [1,2,'A', 'B', 'Hello!', pi]\n",
        "print(varList [0])"
      ],
      "metadata": {
        "colab": {
          "base_uri": "https://localhost:8080/"
        },
        "id": "1n7ZnXe8AAGh",
        "outputId": "3300a6cf-19f6-4806-e7e3-f5306e2bc1c8"
      },
      "execution_count": 8,
      "outputs": [
        {
          "output_type": "stream",
          "name": "stdout",
          "text": [
            "1\n"
          ]
        }
      ]
    },
    {
      "cell_type": "code",
      "source": [
        "print (varList [4])"
      ],
      "metadata": {
        "colab": {
          "base_uri": "https://localhost:8080/"
        },
        "id": "ryQSduD7AVNC",
        "outputId": "91d010db-c3dc-4c3c-8fe6-30d3081b9300"
      },
      "execution_count": 9,
      "outputs": [
        {
          "output_type": "stream",
          "name": "stdout",
          "text": [
            "Hello!\n"
          ]
        }
      ]
    },
    {
      "cell_type": "code",
      "source": [
        "varList.append ('World')\n",
        "print(varList[6])"
      ],
      "metadata": {
        "colab": {
          "base_uri": "https://localhost:8080/"
        },
        "id": "3HjsuYKOAchJ",
        "outputId": "78887ab2-6ac4-4a25-dff7-fbe8762f8e18"
      },
      "execution_count": 10,
      "outputs": [
        {
          "output_type": "stream",
          "name": "stdout",
          "text": [
            "World\n"
          ]
        }
      ]
    },
    {
      "cell_type": "code",
      "source": [
        "len(varList)"
      ],
      "metadata": {
        "colab": {
          "base_uri": "https://localhost:8080/"
        },
        "id": "Gn-7NNipApA8",
        "outputId": "7d0dc873-fdd5-4a8a-b1c3-6a1093f5af6e"
      },
      "execution_count": 11,
      "outputs": [
        {
          "output_type": "execute_result",
          "data": {
            "text/plain": [
              "7"
            ]
          },
          "metadata": {},
          "execution_count": 11
        }
      ]
    },
    {
      "cell_type": "code",
      "source": [
        "print(varList[5])"
      ],
      "metadata": {
        "colab": {
          "base_uri": "https://localhost:8080/"
        },
        "id": "fOqlrCycAtKZ",
        "outputId": "3461b93f-a0dd-4ba2-faf1-9cac9560622a"
      },
      "execution_count": 12,
      "outputs": [
        {
          "output_type": "stream",
          "name": "stdout",
          "text": [
            "3.14159\n"
          ]
        }
      ]
    },
    {
      "cell_type": "code",
      "source": [
        "varList.remove(pi)\n",
        "print(varList[5])"
      ],
      "metadata": {
        "colab": {
          "base_uri": "https://localhost:8080/"
        },
        "id": "EBU5PIRvAx1B",
        "outputId": "cc9bc4b7-13ea-485e-fedd-e6f838ad0359"
      },
      "execution_count": 13,
      "outputs": [
        {
          "output_type": "stream",
          "name": "stdout",
          "text": [
            "World\n"
          ]
        }
      ]
    },
    {
      "cell_type": "markdown",
      "source": [
        "# **DICTIONARIES**\n",
        "\n",
        "--- EXAMPLE ---"
      ],
      "metadata": {
        "id": "7TkjTn0BBawo"
      }
    },
    {
      "cell_type": "code",
      "source": [
        "var = \"Hello World!\"\n",
        "varDict = {'first': 123, 2 : 'abc', '3' : var, 4 : ['lista', 'listb']}\n",
        "print(varDict['first'])"
      ],
      "metadata": {
        "colab": {
          "base_uri": "https://localhost:8080/"
        },
        "id": "7ojrfxAxBg8J",
        "outputId": "bfae8424-16ac-481c-b65d-3e6595c0d3f2"
      },
      "execution_count": 18,
      "outputs": [
        {
          "output_type": "stream",
          "name": "stdout",
          "text": [
            "123\n"
          ]
        }
      ]
    },
    {
      "cell_type": "code",
      "source": [
        "print(varDict [2])"
      ],
      "metadata": {
        "colab": {
          "base_uri": "https://localhost:8080/"
        },
        "id": "03ukQL7MB02R",
        "outputId": "30247189-9892-4430-9466-ad44a8bd85b6"
      },
      "execution_count": 15,
      "outputs": [
        {
          "output_type": "stream",
          "name": "stdout",
          "text": [
            "abc\n"
          ]
        }
      ]
    },
    {
      "cell_type": "code",
      "source": [
        "print(varDict['3'])"
      ],
      "metadata": {
        "colab": {
          "base_uri": "https://localhost:8080/"
        },
        "id": "fvZOATIJB5zo",
        "outputId": "293ae103-fd25-4c90-eb2b-d6a21ed23989"
      },
      "execution_count": 24,
      "outputs": [
        {
          "output_type": "stream",
          "name": "stdout",
          "text": [
            "Hello World!\n"
          ]
        }
      ]
    },
    {
      "cell_type": "code",
      "source": [
        "print(varDict[4])"
      ],
      "metadata": {
        "colab": {
          "base_uri": "https://localhost:8080/"
        },
        "id": "bH48awVnB9k5",
        "outputId": "17f51ef9-28d3-48cb-f6e8-f791be5d8388"
      },
      "execution_count": 19,
      "outputs": [
        {
          "output_type": "stream",
          "name": "stdout",
          "text": [
            "['lista', 'listb']\n"
          ]
        }
      ]
    },
    {
      "cell_type": "code",
      "source": [
        "print(varDict[4][1])"
      ],
      "metadata": {
        "colab": {
          "base_uri": "https://localhost:8080/"
        },
        "id": "nwME4AncCbLa",
        "outputId": "566f2fa8-db8d-4121-aba6-02418af0c97b"
      },
      "execution_count": 21,
      "outputs": [
        {
          "output_type": "stream",
          "name": "stdout",
          "text": [
            "listb\n"
          ]
        }
      ]
    },
    {
      "cell_type": "code",
      "source": [
        "len(varDict)"
      ],
      "metadata": {
        "colab": {
          "base_uri": "https://localhost:8080/"
        },
        "id": "DNsC44IoCh44",
        "outputId": "81cae579-bc0b-4de7-82d4-bf52330ae860"
      },
      "execution_count": 22,
      "outputs": [
        {
          "output_type": "execute_result",
          "data": {
            "text/plain": [
              "4"
            ]
          },
          "metadata": {},
          "execution_count": 22
        }
      ]
    },
    {
      "cell_type": "markdown",
      "source": [
        "# **LIST GENERATORS AND COMPREHENSIONS**\n",
        "\n",
        "Generators can be used to build list in the memory as objects\n",
        "\n",
        "Python's built in range function range ([start]), stop, [step]"
      ],
      "metadata": {
        "id": "EC3cXHwMD42w"
      }
    },
    {
      "cell_type": "code",
      "source": [
        "def gen_num_u_to(n):\n",
        "  num=0\n",
        "  while 0 <n:\n",
        "    yield num\n",
        "    num +=1"
      ],
      "metadata": {
        "id": "setLlpH8ETr3"
      },
      "execution_count": 28,
      "outputs": []
    },
    {
      "cell_type": "markdown",
      "source": [
        "varList = gen_num_up_to (5)\n",
        "\n",
        "print([var for var in varlist])\n",
        ">[0,1,2,3,4)\n",
        "\n",
        "def gen_num_up_to (n)\n",
        "\n",
        "  num = 0\n",
        "\n",
        "  while num , n:\n",
        "  \n",
        "    yield num\n",
        "\n",
        "    num +=2\n",
        "varList = gen_num_up_to (5)\n",
        "\n",
        "print ([var for var in varList])\n",
        "\n",
        ">[0,2,4]\n",
        "\n",
        "varList = range (0,5,2)\n",
        "\n",
        "print([var for var in varList])\n",
        "\n",
        ">[0,2,4]\n",
        "\n",
        "\n",
        "\n"
      ],
      "metadata": {
        "id": "BvaCRwmtFJkm"
      }
    },
    {
      "cell_type": "markdown",
      "source": [
        "# **SLICING**\n",
        "\n",
        "list(start:)\n",
        "\n",
        "list (:end)\n",
        "\n",
        "list (start:end)\n",
        "\n",
        "list (start:end:step)\n"
      ],
      "metadata": {
        "id": "08xa6F9JGlpG"
      }
    },
    {
      "cell_type": "code",
      "source": [
        "varList = [1,2,3,4,5,6,7,8,9,10]\n",
        "print (varList[:5])"
      ],
      "metadata": {
        "colab": {
          "base_uri": "https://localhost:8080/"
        },
        "id": "rpRShBIuGnde",
        "outputId": "9ed6eea4-cfb5-44e4-c238-3de2f9af8620"
      },
      "execution_count": 30,
      "outputs": [
        {
          "output_type": "stream",
          "name": "stdout",
          "text": [
            "[1, 2, 3, 4, 5]\n"
          ]
        }
      ]
    },
    {
      "cell_type": "code",
      "source": [
        "print(varList[5:])"
      ],
      "metadata": {
        "colab": {
          "base_uri": "https://localhost:8080/"
        },
        "id": "7S3_3NW1GyD2",
        "outputId": "417bd467-63ba-4cab-ebb1-5a00d8827e80"
      },
      "execution_count": 32,
      "outputs": [
        {
          "output_type": "stream",
          "name": "stdout",
          "text": [
            "[6, 7, 8, 9, 10]\n"
          ]
        }
      ]
    },
    {
      "cell_type": "code",
      "source": [
        "print(varList[:-2])"
      ],
      "metadata": {
        "colab": {
          "base_uri": "https://localhost:8080/"
        },
        "id": "x4oFrkV0G289",
        "outputId": "128c9a13-8d61-4e16-e37a-e096d5a4fa8f"
      },
      "execution_count": 33,
      "outputs": [
        {
          "output_type": "stream",
          "name": "stdout",
          "text": [
            "[1, 2, 3, 4, 5, 6, 7, 8]\n"
          ]
        }
      ]
    },
    {
      "cell_type": "code",
      "source": [
        "print(varList[-2:])"
      ],
      "metadata": {
        "colab": {
          "base_uri": "https://localhost:8080/"
        },
        "id": "TmhbtzPaG-Cl",
        "outputId": "35b36196-bbad-472b-ea44-4a5212d08a4a"
      },
      "execution_count": 34,
      "outputs": [
        {
          "output_type": "stream",
          "name": "stdout",
          "text": [
            "[9, 10]\n"
          ]
        }
      ]
    },
    {
      "cell_type": "code",
      "source": [
        "print(varList[2:-2])"
      ],
      "metadata": {
        "colab": {
          "base_uri": "https://localhost:8080/"
        },
        "id": "S9X9lvKXHA_1",
        "outputId": "df66b0f4-ea2c-4163-e122-a85aad031ecf"
      },
      "execution_count": 35,
      "outputs": [
        {
          "output_type": "stream",
          "name": "stdout",
          "text": [
            "[3, 4, 5, 6, 7, 8]\n"
          ]
        }
      ]
    },
    {
      "cell_type": "code",
      "source": [
        "print(varList[2:8:2])"
      ],
      "metadata": {
        "colab": {
          "base_uri": "https://localhost:8080/"
        },
        "id": "Gdo-QiLqHHIm",
        "outputId": "223cd0a9-0378-4216-9d6c-d56a3bc87da9"
      },
      "execution_count": 36,
      "outputs": [
        {
          "output_type": "stream",
          "name": "stdout",
          "text": [
            "[3, 5, 7]\n"
          ]
        }
      ]
    },
    {
      "cell_type": "markdown",
      "source": [
        "# **FUNCTIONS**\n",
        "\n",
        "Functions are defined with the keyword def before the function name. Similar to loops, the function definition ends with a colon (:) while its contents inside are indented\n",
        "\n",
        "**def function_name:** commands"
      ],
      "metadata": {
        "id": "qiObxXrcIIZn"
      }
    },
    {
      "cell_type": "code",
      "source": [
        "def remainder (n,m):\n",
        "  while True:\n",
        "    if  n-m <0:\n",
        "      return n\n",
        "    else:\n",
        "      n = n - m\n",
        "\n",
        "remainder (10,4)"
      ],
      "metadata": {
        "colab": {
          "base_uri": "https://localhost:8080/"
        },
        "id": "6j8m_L1mIhj0",
        "outputId": "811a2c95-ea07-4fd6-be2c-1623f1e5b2b2"
      },
      "execution_count": 38,
      "outputs": [
        {
          "output_type": "execute_result",
          "data": {
            "text/plain": [
              "2"
            ]
          },
          "metadata": {},
          "execution_count": 38
        }
      ]
    }
  ]
}